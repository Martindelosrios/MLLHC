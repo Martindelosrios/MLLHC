{
 "cells": [
  {
   "cell_type": "markdown",
   "id": "21e8bf72-f155-4367-9e20-b742cc0a9983",
   "metadata": {},
   "source": [
    "# Needed libraries"
   ]
  },
  {
   "cell_type": "code",
   "execution_count": 32,
   "id": "efc6ef77-54aa-40e2-bce0-a3b403f78922",
   "metadata": {},
   "outputs": [],
   "source": [
    "import numpy as np\n",
    "import os"
   ]
  },
  {
   "cell_type": "code",
   "execution_count": 5,
   "id": "8710e277-e06a-452e-b7cc-f969bdb3048b",
   "metadata": {},
   "outputs": [],
   "source": [
    "from read_lhco import read_lhco"
   ]
  },
  {
   "cell_type": "markdown",
   "id": "f2c23e7c-3f4b-4dba-b474-ab8f11fb7dd5",
   "metadata": {},
   "source": [
    "# Signal events"
   ]
  },
  {
   "cell_type": "code",
   "execution_count": 49,
   "id": "cd3394d3-7be4-4cd4-a406-125aa2a7862a",
   "metadata": {},
   "outputs": [
    {
     "name": "stdout",
     "output_type": "stream",
     "text": [
      "0\n",
      "Esta run tuvo 100000 eventos en el lhco\n",
      "1\n",
      "Esta run tuvo 100000 eventos en el lhco\n",
      "2\n",
      "Esta run tuvo 100000 eventos en el lhco\n",
      "3\n",
      "Esta run tuvo 100000 eventos en el lhco\n",
      "4\n",
      "Esta run tuvo 100000 eventos en el lhco\n",
      "5\n",
      "Esta run tuvo 100000 eventos en el lhco\n",
      "6\n",
      "Esta run tuvo 2326 eventos en el lhco\n",
      "7\n",
      "Esta run tuvo 100000 eventos en el lhco\n",
      "8\n",
      "Esta run tuvo 100000 eventos en el lhco\n",
      "9\n",
      "Esta run tuvo 100000 eventos en el lhco\n",
      "Num initial events:  902326\n",
      "Total pasaron los cortes:  78016\n",
      "Hay:  1243  taus\n",
      "Hay:  727  eventos con al menos un jet malo\n"
     ]
    }
   ],
   "source": [
    "write = True\n",
    "\n",
    "signal_cut_ev  = 0\n",
    "signal_init_ev = 0\n",
    "\n",
    "counter_bad_jets = 0\n",
    "contador_tau     = 0\n",
    "\n",
    "bp_number = 8\n",
    "signal_runs = os.listdir(f'../data/BP{bp_number}/')\n",
    "for ii, file in enumerate(signal_runs):\n",
    "    print(ii)\n",
    "    inputevents = read_lhco(f'../data/BP{bp_number}/' + file, OutputType = 'dict')\n",
    "    signal_init_ev += len(inputevents)\n",
    "    print('Esta run tuvo ' + str(len(inputevents)) + ' eventos en el lhco')\n",
    "    \n",
    "    for i in range(len(inputevents)):\n",
    "\n",
    "        # at least one: photon, jet and lepton (electron or muon)\n",
    "        if len(inputevents[i][\"photon\"]) > 0 and len(inputevents[i][\"jet\"]) > 0 and (len(inputevents[i][\"electron\"]) > 0 or len(inputevents[i][\"muon\"]) > 0):\n",
    "            if inputevents[i][\"jet\"][0][\"pt\"] > 100 and -4.5 < inputevents[i][\"jet\"][0][\"eta\"] < 4.5:\n",
    "                if inputevents[i][\"photon\"][0][\"pt\"] > 10 and -2.37 < inputevents[i][\"photon\"][0][\"eta\"] < 2.37:\n",
    "                    if inputevents[i][\"met\"][0][\"pt\"] > 200:\n",
    "\n",
    "                        # lepton info\n",
    "                        if (len(inputevents[i][\"electron\"]) > 0) and (len(inputevents[i][\"muon\"]) > 0):\n",
    "                            if inputevents[i][\"electron\"][0][\"pt\"] > inputevents[i][\"muon\"][0][\"pt\"]: \n",
    "                                flag = 'electron'\n",
    "                                eta_leading_lepton = inputevents[i][\"electron\"][0][\"eta\"]\n",
    "                            else: \n",
    "                                flag = 'muon'\n",
    "                                eta_leading_lepton = -2. # Esto es para q el corte sea solo cuando el leading lepton es un electron\n",
    "                        elif (len(inputevents[i][\"electron\"]) > 0) and (len(inputevents[i][\"muon\"]) == 0): \n",
    "                            flag = 'electron'\n",
    "                            eta_leading_lepton = inputevents[i][\"electron\"][0][\"eta\"]\n",
    "                        elif (len(inputevents[i][\"muon\"]) > 0) and (len(inputevents[i][\"electron\"]) == 0): \n",
    "                            flag = 'muon'\n",
    "                            eta_leading_lepton = -2. # Esto es para q el corte sea solo cuando el leading lepton es un electron\n",
    "\n",
    "                        if (-2.47 < eta_leading_lepton < -1.52) or (-1.37 < eta_leading_lepton < 1.37) or (1.52 < eta_leading_lepton < 2.47): \n",
    "\n",
    "                            # how many jets (total) and total hadronic pT\n",
    "                            flag_bad_jets = 0                            \n",
    "                            num_jets = 0\n",
    "                            HT_had = 0 # hadronic activity HT, defined as the scalar sum of the pT of all reconstructed jets\n",
    "                            HT = 0 # total HT, defined as the scalar sum of the pT of all reconstructed particles\n",
    "\n",
    "                            for j in range(len(inputevents[i][\"jet\"])):\n",
    "                                if (inputevents[i][\"jet\"][j][\"pt\"] > 20) and (-4.5 < inputevents[i][\"jet\"][j][\"eta\"] < 4.5):\n",
    "                                    num_jets += 1\n",
    "                                    HT_had += inputevents[i][\"jet\"][j][\"pt\"]\n",
    "                                    HT += inputevents[i][\"jet\"][j][\"pt\"]\n",
    "                                if (np.abs(inputevents[i][\"jet\"][j][\"eta\"]) > 4.5) or (inputevents[i][\"jet\"][j][\"pt\"] < 20):\n",
    "                                    flag_bad_jets = 1\n",
    "\n",
    "                            # how many photons                         \n",
    "                            num_photons = 0\n",
    "                            for j in range(len(inputevents[i][\"photon\"])):\n",
    "                                if inputevents[i][\"photon\"][j][\"pt\"] > 10 and -2.37 < inputevents[i][\"photon\"][j][\"eta\"] < 2.37:\n",
    "                                    num_photons = num_photons + 1\n",
    "                                    HT += inputevents[i][\"photon\"][j][\"pt\"]\n",
    "\n",
    "                            # how many muons                        \n",
    "                            num_muons = 0\n",
    "                            for j in range(len(inputevents[i][\"muon\"])):\n",
    "                                if inputevents[i][\"muon\"][j][\"pt\"] > 10 and -2.7 < inputevents[i][\"muon\"][j][\"eta\"] < 2.7:\n",
    "                                    num_muons = num_muons + 1\n",
    "                                    HT += inputevents[i][\"muon\"][j][\"pt\"]\n",
    "\n",
    "                            # how many electrons                        \n",
    "                            num_electrons = 0\n",
    "                            for j in range(len(inputevents[i][\"electron\"])):\n",
    "                                if inputevents[i][\"electron\"][j][\"pt\"] > 10:\n",
    "                                    eta = inputevents[i][\"electron\"][j][\"eta\"]\n",
    "                                    if (-2.47 < eta < -1.52) or (-1.37 < eta < 1.37) or (1.52 < eta < 2.47): \n",
    "                                        num_electrons = num_electrons + 1\n",
    "                                        HT += inputevents[i][\"electron\"][j][\"pt\"]\n",
    "\n",
    "                            if flag_bad_jets == 1: counter_bad_jets += 1 \n",
    "                            if flag_bad_jets == 0:\n",
    "                                num_taus = 0\n",
    "                                if len(inputevents[i][\"tau\"]) > 0: \n",
    "                                    contador_tau = contador_tau + 1\n",
    "                                    # how many taus                    \n",
    "                                    for j in range(len(inputevents[i][\"tau\"])):\n",
    "                                        if inputevents[i][\"tau\"][j][\"pt\"] > 20:\n",
    "                                            eta = inputevents[i][\"tau\"][j][\"eta\"]\n",
    "                                            if (-2.47 < eta < -1.52) or (-1.37 < eta < 1.37) or (1.52 < eta < 2.47): \n",
    "                                                num_taus = num_taus + 1\n",
    "                                                HT += inputevents[i][\"tau\"][j][\"pt\"]\n",
    "\n",
    "                                if write:                \n",
    "                                    # photon info:\n",
    "                                    with open(f'../data/BP{bp_number}/photon.dat', 'a') as f:\n",
    "                                        f.write('%f %f %f %d\\n' % (inputevents[i][\"photon\"][0][\"pt\"],inputevents[i][\"photon\"][0][\"eta\"],inputevents[i][\"photon\"][0][\"phi\"], num_photons))\n",
    "\n",
    "                                    # jet info:\n",
    "                                    with open(f'../data/BP{bp_number}/jet.dat', 'a') as f:\n",
    "                                        f.write('%f %f %f\\n' % (inputevents[i][\"jet\"][0][\"pt\"],inputevents[i][\"jet\"][0][\"eta\"],inputevents[i][\"jet\"][0][\"phi\"]))\n",
    "\n",
    "                                    # lepton info\n",
    "                                    num_leptons = num_electrons + num_muons\n",
    "                                    if flag == 'electron':\n",
    "                                        with open(f'../data/BP{bp_number}/lepton.dat', 'a') as f:\n",
    "                                            f.write('%f %f %f %d %d\\n' % (inputevents[i][\"electron\"][0][\"pt\"],inputevents[i][\"electron\"][0][\"eta\"],inputevents[i][\"electron\"][0][\"phi\"], num_leptons, num_taus))\n",
    "                                    else:\n",
    "                                        with open(f'../data/BP{bp_number}/lepton.dat', 'a') as f:\n",
    "                                            f.write('%f %f %f %d %d\\n' % (inputevents[i][\"muon\"][0][\"pt\"],inputevents[i][\"muon\"][0][\"eta\"],inputevents[i][\"muon\"][0][\"phi\"], num_leptons, num_taus))\n",
    "\n",
    "                                    # MET (eta=0 by def, but I save phi because I have many jets)\n",
    "                                    with open(f'../data/BP{bp_number}/MET.dat', 'a') as f:\n",
    "                                        f.write('%f %f %f\\n' % (inputevents[i][\"met\"][0][\"pt\"],inputevents[i][\"met\"][0][\"eta\"],inputevents[i][\"met\"][0][\"phi\"]))\n",
    "\n",
    "                                    # hadronic info\n",
    "                                    with open(f'../data/BP{bp_number}/hadinfo.dat', 'a') as f:\n",
    "                                        f.write('%f %f %d\\n' % (HT, HT_had, num_jets))\n",
    "\n",
    "                                # total events that passed the cuts\n",
    "                                signal_cut_ev += 1\n",
    "\n",
    "print('Num initial events: ', signal_init_ev)\n",
    "print('Total pasaron los cortes: ', signal_cut_ev)\n",
    "print('Hay: ', contador_tau, ' taus')\n",
    "print('Hay: ', counter_bad_jets, ' eventos con al menos un jet malo')\n"
   ]
  },
  {
   "cell_type": "code",
   "execution_count": 50,
   "id": "1b72acc3-4c67-4952-8142-88d08637d14f",
   "metadata": {},
   "outputs": [
    {
     "data": {
      "text/plain": [
       "0.08646099081706611"
      ]
     },
     "execution_count": 50,
     "metadata": {},
     "output_type": "execute_result"
    }
   ],
   "source": [
    "signal_cut_ev / signal_init_ev"
   ]
  },
  {
   "cell_type": "code",
   "execution_count": null,
   "id": "e2ec09a6-541d-4c3b-b51b-b387fc2b8c68",
   "metadata": {},
   "outputs": [],
   "source": [
    "\n",
    "\n",
    "cross       = signal_cross[bp-1] * signal_NLO\n",
    "aceptancia  = signal_cut_ev / (1. * signal_init_ev)\n",
    "\n",
    "signal_fidcross = cross * aceptancia\n",
    "signal_expected = cross * aceptancia * luminosidad\n",
    "\n",
    "print('fiducial cross section: ', signal_fidcross)\n",
    "print('Events expected: ', signal_expected)"
   ]
  }
 ],
 "metadata": {
  "kernelspec": {
   "display_name": "Python 3 (ipykernel)",
   "language": "python",
   "name": "python3"
  },
  "language_info": {
   "codemirror_mode": {
    "name": "ipython",
    "version": 3
   },
   "file_extension": ".py",
   "mimetype": "text/x-python",
   "name": "python",
   "nbconvert_exporter": "python",
   "pygments_lexer": "ipython3",
   "version": "3.8.10"
  }
 },
 "nbformat": 4,
 "nbformat_minor": 5
}
